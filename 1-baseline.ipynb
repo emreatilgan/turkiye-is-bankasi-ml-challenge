{
 "cells": [
  {
   "cell_type": "markdown",
   "metadata": {
    "papermill": {
     "duration": 0.020316,
     "end_time": "2021-02-06T12:35:26.944017",
     "exception": false,
     "start_time": "2021-02-06T12:35:26.923701",
     "status": "completed"
    },
    "tags": []
   },
   "source": [
    "### Libraries"
   ]
  },
  {
   "cell_type": "code",
   "execution_count": 1,
   "metadata": {
    "execution": {
     "iopub.execute_input": "2021-02-06T12:35:26.989722Z",
     "iopub.status.busy": "2021-02-06T12:35:26.989008Z",
     "iopub.status.idle": "2021-02-06T12:35:28.845789Z",
     "shell.execute_reply": "2021-02-06T12:35:28.844624Z"
    },
    "papermill": {
     "duration": 1.882305,
     "end_time": "2021-02-06T12:35:28.846065",
     "exception": false,
     "start_time": "2021-02-06T12:35:26.963760",
     "status": "completed"
    },
    "tags": []
   },
   "outputs": [
    {
     "data": {
      "text/html": [
       "<style type='text/css'>\n",
       ".datatable table.frame { margin-bottom: 0; }\n",
       ".datatable table.frame thead { border-bottom: none; }\n",
       ".datatable table.frame tr.coltypes td {  color: #FFFFFF;  line-height: 6px;  padding: 0 0.5em;}\n",
       ".datatable .bool    { background: #DDDD99; }\n",
       ".datatable .object  { background: #565656; }\n",
       ".datatable .int     { background: #5D9E5D; }\n",
       ".datatable .float   { background: #4040CC; }\n",
       ".datatable .str     { background: #CC4040; }\n",
       ".datatable .row_index {  background: var(--jp-border-color3);  border-right: 1px solid var(--jp-border-color0);  color: var(--jp-ui-font-color3);  font-size: 9px;}\n",
       ".datatable .frame tr.coltypes .row_index {  background: var(--jp-border-color0);}\n",
       ".datatable th:nth-child(2) { padding-left: 12px; }\n",
       ".datatable .hellipsis {  color: var(--jp-cell-editor-border-color);}\n",
       ".datatable .vellipsis {  background: var(--jp-layout-color0);  color: var(--jp-cell-editor-border-color);}\n",
       ".datatable .na {  color: var(--jp-cell-editor-border-color);  font-size: 80%;}\n",
       ".datatable .footer { font-size: 9px; }\n",
       ".datatable .frame_dimensions {  background: var(--jp-border-color3);  border-top: 1px solid var(--jp-border-color0);  color: var(--jp-ui-font-color3);  display: inline-block;  opacity: 0.6;  padding: 1px 10px 1px 5px;}\n",
       "</style>\n"
      ],
      "text/plain": [
       "<IPython.core.display.HTML object>"
      ]
     },
     "metadata": {},
     "output_type": "display_data"
    }
   ],
   "source": [
    "import pandas as pd\n",
    "import numpy as np\n",
    "import matplotlib.pyplot as plt\n",
    "from pandas_profiling import ProfileReport\n",
    "from lightgbm import LGBMRegressor\n",
    "from sklearn.preprocessing import LabelEncoder, OrdinalEncoder\n",
    "from sklearn.model_selection import KFold, StratifiedKFold, GroupKFold, train_test_split\n",
    "from sklearn.metrics import roc_auc_score\n",
    "from tqdm.notebook import tqdm\n",
    "from sklearn.preprocessing import LabelEncoder\n",
    "import datetime\n",
    "from sklearn.metrics import mean_squared_error, mean_absolute_error\n",
    "import gc\n",
    "import os"
   ]
  },
  {
   "cell_type": "markdown",
   "metadata": {
    "papermill": {
     "duration": 0.020659,
     "end_time": "2021-02-06T12:35:28.888008",
     "exception": false,
     "start_time": "2021-02-06T12:35:28.867349",
     "status": "completed"
    },
    "tags": []
   },
   "source": [
    "### Read data"
   ]
  },
  {
   "cell_type": "code",
   "execution_count": 2,
   "metadata": {
    "execution": {
     "iopub.execute_input": "2021-02-06T12:35:28.934745Z",
     "iopub.status.busy": "2021-02-06T12:35:28.934136Z",
     "iopub.status.idle": "2021-02-06T12:35:30.098288Z",
     "shell.execute_reply": "2021-02-06T12:35:30.097120Z"
    },
    "papermill": {
     "duration": 1.190184,
     "end_time": "2021-02-06T12:35:30.098447",
     "exception": false,
     "start_time": "2021-02-06T12:35:28.908263",
     "status": "completed"
    },
    "tags": []
   },
   "outputs": [],
   "source": [
    "sample_submission = pd.read_csv('/kaggle/input/turkiye-is-bankas-machine-learning-challenge-3/sample_submission.csv')\n",
    "monthly_expenditures = pd.read_csv('/kaggle/input/turkiye-is-bankas-machine-learning-challenge-3/monthly_expenditures.csv')\n",
    "raw_train = pd.read_csv('/kaggle/input/turkiye-is-bankas-machine-learning-challenge-3/train.csv')\n",
    "raw_test = pd.read_csv('/kaggle/input/turkiye-is-bankas-machine-learning-challenge-3/test.csv')"
   ]
  },
  {
   "cell_type": "markdown",
   "metadata": {
    "papermill": {
     "duration": 0.021335,
     "end_time": "2021-02-06T12:35:30.143431",
     "exception": false,
     "start_time": "2021-02-06T12:35:30.122096",
     "status": "completed"
    },
    "tags": []
   },
   "source": [
    "### Data cleaning"
   ]
  },
  {
   "cell_type": "code",
   "execution_count": 3,
   "metadata": {
    "execution": {
     "iopub.execute_input": "2021-02-06T12:35:30.199586Z",
     "iopub.status.busy": "2021-02-06T12:35:30.198736Z",
     "iopub.status.idle": "2021-02-06T12:35:30.208211Z",
     "shell.execute_reply": "2021-02-06T12:35:30.207594Z"
    },
    "papermill": {
     "duration": 0.042692,
     "end_time": "2021-02-06T12:35:30.208351",
     "exception": false,
     "start_time": "2021-02-06T12:35:30.165659",
     "status": "completed"
    },
    "tags": []
   },
   "outputs": [],
   "source": [
    "raw_train.pop('tarih')\n",
    "raw_test.pop('tarih')\n",
    "\n",
    "raw_train.set_index('musteri', inplace=True)\n",
    "raw_test.set_index('musteri', inplace=True)"
   ]
  },
  {
   "cell_type": "code",
   "execution_count": 4,
   "metadata": {
    "execution": {
     "iopub.execute_input": "2021-02-06T12:35:30.273555Z",
     "iopub.status.busy": "2021-02-06T12:35:30.254879Z",
     "iopub.status.idle": "2021-02-06T12:35:30.292504Z",
     "shell.execute_reply": "2021-02-06T12:35:30.291188Z"
    },
    "papermill": {
     "duration": 0.063014,
     "end_time": "2021-02-06T12:35:30.292640",
     "exception": false,
     "start_time": "2021-02-06T12:35:30.229626",
     "status": "completed"
    },
    "tags": []
   },
   "outputs": [],
   "source": [
    "raw_train.fillna('na', inplace=True)\n",
    "raw_test.fillna('na', inplace=True)"
   ]
  },
  {
   "cell_type": "code",
   "execution_count": 5,
   "metadata": {
    "execution": {
     "iopub.execute_input": "2021-02-06T12:35:30.346728Z",
     "iopub.status.busy": "2021-02-06T12:35:30.345786Z",
     "iopub.status.idle": "2021-02-06T12:35:30.355551Z",
     "shell.execute_reply": "2021-02-06T12:35:30.356117Z"
    },
    "papermill": {
     "duration": 0.042748,
     "end_time": "2021-02-06T12:35:30.356270",
     "exception": false,
     "start_time": "2021-02-06T12:35:30.313522",
     "status": "completed"
    },
    "tags": []
   },
   "outputs": [
    {
     "data": {
      "text/html": [
       "<div>\n",
       "<style scoped>\n",
       "    .dataframe tbody tr th:only-of-type {\n",
       "        vertical-align: middle;\n",
       "    }\n",
       "\n",
       "    .dataframe tbody tr th {\n",
       "        vertical-align: top;\n",
       "    }\n",
       "\n",
       "    .dataframe thead th {\n",
       "        text-align: right;\n",
       "    }\n",
       "</style>\n",
       "<table border=\"1\" class=\"dataframe\">\n",
       "  <thead>\n",
       "    <tr style=\"text-align: right;\">\n",
       "      <th></th>\n",
       "      <th>yas</th>\n",
       "      <th>kidem_suresi</th>\n",
       "      <th>egitim</th>\n",
       "      <th>is_durumu</th>\n",
       "      <th>meslek_grubu</th>\n",
       "      <th>target</th>\n",
       "    </tr>\n",
       "    <tr>\n",
       "      <th>musteri</th>\n",
       "      <th></th>\n",
       "      <th></th>\n",
       "      <th></th>\n",
       "      <th></th>\n",
       "      <th></th>\n",
       "      <th></th>\n",
       "    </tr>\n",
       "  </thead>\n",
       "  <tbody>\n",
       "    <tr>\n",
       "      <th>23b2476c8a</th>\n",
       "      <td>44.0</td>\n",
       "      <td>46.0</td>\n",
       "      <td>5f8ca0f83b</td>\n",
       "      <td>915be3a7a4</td>\n",
       "      <td>44af6626d6</td>\n",
       "      <td>0</td>\n",
       "    </tr>\n",
       "    <tr>\n",
       "      <th>5a7e3a7122</th>\n",
       "      <td>39.0</td>\n",
       "      <td>194.0</td>\n",
       "      <td>01a4f2c96c</td>\n",
       "      <td>915be3a7a4</td>\n",
       "      <td>44af6626d6</td>\n",
       "      <td>0</td>\n",
       "    </tr>\n",
       "    <tr>\n",
       "      <th>2ec95c7499</th>\n",
       "      <td>38.0</td>\n",
       "      <td>182.0</td>\n",
       "      <td>7e6640bfe0</td>\n",
       "      <td>d36d84f51a</td>\n",
       "      <td>44af6626d6</td>\n",
       "      <td>0</td>\n",
       "    </tr>\n",
       "    <tr>\n",
       "      <th>54399dac33</th>\n",
       "      <td>34.0</td>\n",
       "      <td>101.0</td>\n",
       "      <td>5f8ca0f83b</td>\n",
       "      <td>991c4998fb</td>\n",
       "      <td>44af6626d6</td>\n",
       "      <td>0</td>\n",
       "    </tr>\n",
       "    <tr>\n",
       "      <th>97a74b2e58</th>\n",
       "      <td>41.0</td>\n",
       "      <td>125.0</td>\n",
       "      <td>7bb291e291</td>\n",
       "      <td>242927d0f5</td>\n",
       "      <td>91ed9c1e18</td>\n",
       "      <td>0</td>\n",
       "    </tr>\n",
       "  </tbody>\n",
       "</table>\n",
       "</div>"
      ],
      "text/plain": [
       "             yas  kidem_suresi      egitim   is_durumu meslek_grubu  target\n",
       "musteri                                                                    \n",
       "23b2476c8a  44.0          46.0  5f8ca0f83b  915be3a7a4   44af6626d6       0\n",
       "5a7e3a7122  39.0         194.0  01a4f2c96c  915be3a7a4   44af6626d6       0\n",
       "2ec95c7499  38.0         182.0  7e6640bfe0  d36d84f51a   44af6626d6       0\n",
       "54399dac33  34.0         101.0  5f8ca0f83b  991c4998fb   44af6626d6       0\n",
       "97a74b2e58  41.0         125.0  7bb291e291  242927d0f5   91ed9c1e18       0"
      ]
     },
     "execution_count": 5,
     "metadata": {},
     "output_type": "execute_result"
    }
   ],
   "source": [
    "raw_train.head()"
   ]
  },
  {
   "cell_type": "markdown",
   "metadata": {
    "papermill": {
     "duration": 0.02266,
     "end_time": "2021-02-06T12:35:30.401944",
     "exception": false,
     "start_time": "2021-02-06T12:35:30.379284",
     "status": "completed"
    },
    "tags": []
   },
   "source": [
    "### Feature engineering"
   ]
  },
  {
   "cell_type": "code",
   "execution_count": 6,
   "metadata": {
    "execution": {
     "iopub.execute_input": "2021-02-06T12:35:30.450582Z",
     "iopub.status.busy": "2021-02-06T12:35:30.449995Z",
     "iopub.status.idle": "2021-02-06T12:35:30.456468Z",
     "shell.execute_reply": "2021-02-06T12:35:30.455955Z"
    },
    "papermill": {
     "duration": 0.03215,
     "end_time": "2021-02-06T12:35:30.456590",
     "exception": false,
     "start_time": "2021-02-06T12:35:30.424440",
     "status": "completed"
    },
    "tags": []
   },
   "outputs": [],
   "source": [
    "train = raw_train.copy()\n",
    "test = raw_test.copy()"
   ]
  },
  {
   "cell_type": "markdown",
   "metadata": {
    "papermill": {
     "duration": 0.021174,
     "end_time": "2021-02-06T12:35:30.499270",
     "exception": false,
     "start_time": "2021-02-06T12:35:30.478096",
     "status": "completed"
    },
    "tags": []
   },
   "source": [
    "#### Convert categorical features to integers"
   ]
  },
  {
   "cell_type": "code",
   "execution_count": 7,
   "metadata": {
    "execution": {
     "iopub.execute_input": "2021-02-06T12:35:30.546858Z",
     "iopub.status.busy": "2021-02-06T12:35:30.546235Z",
     "iopub.status.idle": "2021-02-06T12:35:30.550654Z",
     "shell.execute_reply": "2021-02-06T12:35:30.550124Z"
    },
    "papermill": {
     "duration": 0.030335,
     "end_time": "2021-02-06T12:35:30.550773",
     "exception": false,
     "start_time": "2021-02-06T12:35:30.520438",
     "status": "completed"
    },
    "tags": []
   },
   "outputs": [],
   "source": [
    "cat_features = ['egitim', 'is_durumu', 'meslek_grubu']"
   ]
  },
  {
   "cell_type": "code",
   "execution_count": 8,
   "metadata": {
    "execution": {
     "iopub.execute_input": "2021-02-06T12:35:30.599565Z",
     "iopub.status.busy": "2021-02-06T12:35:30.598687Z",
     "iopub.status.idle": "2021-02-06T12:35:30.622070Z",
     "shell.execute_reply": "2021-02-06T12:35:30.621552Z"
    },
    "papermill": {
     "duration": 0.050105,
     "end_time": "2021-02-06T12:35:30.622190",
     "exception": false,
     "start_time": "2021-02-06T12:35:30.572085",
     "status": "completed"
    },
    "tags": []
   },
   "outputs": [
    {
     "data": {
      "text/plain": [
       "[array(['01a4f2c96c', '2eb5ddd72c', '5f8ca0f83b', '7bb291e291',\n",
       "        '7e6640bfe0', 'na'], dtype=object),\n",
       " array(['242927d0f5', '289777e76d', '3773727d6e', '51be29729b',\n",
       "        '83a26fc2fd', '915be3a7a4', '991c4998fb', 'a996720382',\n",
       "        'b026b8ee68', 'ba7b390fc4', 'd36d84f51a', 'eb35a5eb6b',\n",
       "        'f1fcd26d00', 'na'], dtype=object),\n",
       " array(['070e3be3ae', '314826bda8', '419188ba43', '44af6626d6',\n",
       "        '4e1d23cb0a', '51017102ac', '51155d7cc3', '527516f307',\n",
       "        '5aaf0d2c89', '62260c15fb', '6da8606d6e', '7330d6bdb3',\n",
       "        '8a8492b947', '8bbaa7ab87', '9034d4c83c', '91ed9c1e18',\n",
       "        'b18c21407b', 'ba91c4a92b', 'bfd9cb6270', 'eea19ef68d', 'na'],\n",
       "       dtype=object)]"
      ]
     },
     "execution_count": 8,
     "metadata": {},
     "output_type": "execute_result"
    }
   ],
   "source": [
    "enc = OrdinalEncoder(dtype=np.int)\n",
    "\n",
    "enc.fit(train[cat_features])\n",
    "\n",
    "enc.categories_"
   ]
  },
  {
   "cell_type": "code",
   "execution_count": 9,
   "metadata": {
    "execution": {
     "iopub.execute_input": "2021-02-06T12:35:30.678674Z",
     "iopub.status.busy": "2021-02-06T12:35:30.677982Z",
     "iopub.status.idle": "2021-02-06T12:35:30.920434Z",
     "shell.execute_reply": "2021-02-06T12:35:30.919899Z"
    },
    "papermill": {
     "duration": 0.276182,
     "end_time": "2021-02-06T12:35:30.920577",
     "exception": false,
     "start_time": "2021-02-06T12:35:30.644395",
     "status": "completed"
    },
    "tags": []
   },
   "outputs": [],
   "source": [
    "train[cat_features] = enc.transform(train[cat_features])\n",
    "test[cat_features] = enc.transform(test[cat_features])"
   ]
  },
  {
   "cell_type": "markdown",
   "metadata": {
    "papermill": {
     "duration": 0.022439,
     "end_time": "2021-02-06T12:35:30.966073",
     "exception": false,
     "start_time": "2021-02-06T12:35:30.943634",
     "status": "completed"
    },
    "tags": []
   },
   "source": [
    "#### Create features from monthly expenditures"
   ]
  },
  {
   "cell_type": "code",
   "execution_count": 10,
   "metadata": {
    "execution": {
     "iopub.execute_input": "2021-02-06T12:35:31.016245Z",
     "iopub.status.busy": "2021-02-06T12:35:31.014464Z",
     "iopub.status.idle": "2021-02-06T12:35:31.016912Z",
     "shell.execute_reply": "2021-02-06T12:35:31.017437Z"
    },
    "papermill": {
     "duration": 0.029186,
     "end_time": "2021-02-06T12:35:31.017587",
     "exception": false,
     "start_time": "2021-02-06T12:35:30.988401",
     "status": "completed"
    },
    "tags": []
   },
   "outputs": [],
   "source": [
    "#monthly_expenditures['avg_aylik_tutar'] = monthly_expenditures['aylik_toplam_tutar'] / monthly_expenditures['islem_adedi']"
   ]
  },
  {
   "cell_type": "code",
   "execution_count": 11,
   "metadata": {
    "execution": {
     "iopub.execute_input": "2021-02-06T12:35:31.066734Z",
     "iopub.status.busy": "2021-02-06T12:35:31.066161Z",
     "iopub.status.idle": "2021-02-06T12:35:31.070261Z",
     "shell.execute_reply": "2021-02-06T12:35:31.069519Z"
    },
    "papermill": {
     "duration": 0.030361,
     "end_time": "2021-02-06T12:35:31.070429",
     "exception": false,
     "start_time": "2021-02-06T12:35:31.040068",
     "status": "completed"
    },
    "tags": []
   },
   "outputs": [],
   "source": [
    "agg_funcs = [\n",
    "    np.mean,\n",
    "    np.median,\n",
    "    min,\n",
    "    max,\n",
    "    np.std\n",
    "]"
   ]
  },
  {
   "cell_type": "code",
   "execution_count": 12,
   "metadata": {
    "execution": {
     "iopub.execute_input": "2021-02-06T12:35:31.121910Z",
     "iopub.status.busy": "2021-02-06T12:35:31.121245Z",
     "iopub.status.idle": "2021-02-06T12:35:31.125788Z",
     "shell.execute_reply": "2021-02-06T12:35:31.125242Z"
    },
    "papermill": {
     "duration": 0.031818,
     "end_time": "2021-02-06T12:35:31.125953",
     "exception": false,
     "start_time": "2021-02-06T12:35:31.094135",
     "status": "completed"
    },
    "tags": []
   },
   "outputs": [],
   "source": [
    "values_to_use = [\n",
    "    'islem_adedi',\n",
    "    'aylik_toplam_tutar',\n",
    "    #'avg_aylik_tutar'\n",
    "]"
   ]
  },
  {
   "cell_type": "code",
   "execution_count": 13,
   "metadata": {
    "execution": {
     "iopub.execute_input": "2021-02-06T12:35:31.218554Z",
     "iopub.status.busy": "2021-02-06T12:35:31.205603Z",
     "iopub.status.idle": "2021-02-06T12:35:36.656260Z",
     "shell.execute_reply": "2021-02-06T12:35:36.655329Z"
    },
    "papermill": {
     "duration": 5.50648,
     "end_time": "2021-02-06T12:35:36.656434",
     "exception": false,
     "start_time": "2021-02-06T12:35:31.149954",
     "status": "completed"
    },
    "tags": []
   },
   "outputs": [],
   "source": [
    "agg_expenditures = monthly_expenditures.pivot_table(index='musteri',\n",
    "                                                    columns=['sektor'],\n",
    "                                                    values=values_to_use,\n",
    "                                                    aggfunc= agg_funcs,\n",
    "                                                    fill_value=0)\n",
    "agg_expenditures.columns = ['_'.join(col).strip() for col in agg_expenditures.columns.values]\n",
    "agg_expenditures.fillna(0, inplace=True)"
   ]
  },
  {
   "cell_type": "code",
   "execution_count": 14,
   "metadata": {
    "execution": {
     "iopub.execute_input": "2021-02-06T12:35:36.750459Z",
     "iopub.status.busy": "2021-02-06T12:35:36.749572Z",
     "iopub.status.idle": "2021-02-06T12:35:37.019622Z",
     "shell.execute_reply": "2021-02-06T12:35:37.020111Z"
    },
    "papermill": {
     "duration": 0.340831,
     "end_time": "2021-02-06T12:35:37.020290",
     "exception": false,
     "start_time": "2021-02-06T12:35:36.679459",
     "status": "completed"
    },
    "tags": []
   },
   "outputs": [],
   "source": [
    "all_train = train.join(agg_expenditures)\n",
    "all_test = test.join(agg_expenditures)"
   ]
  },
  {
   "cell_type": "code",
   "execution_count": 15,
   "metadata": {
    "execution": {
     "iopub.execute_input": "2021-02-06T12:35:37.071040Z",
     "iopub.status.busy": "2021-02-06T12:35:37.070220Z",
     "iopub.status.idle": "2021-02-06T12:35:37.073049Z",
     "shell.execute_reply": "2021-02-06T12:35:37.072550Z"
    },
    "papermill": {
     "duration": 0.02981,
     "end_time": "2021-02-06T12:35:37.073178",
     "exception": false,
     "start_time": "2021-02-06T12:35:37.043368",
     "status": "completed"
    },
    "tags": []
   },
   "outputs": [],
   "source": [
    "columns = all_test.columns"
   ]
  },
  {
   "cell_type": "code",
   "execution_count": 16,
   "metadata": {
    "execution": {
     "iopub.execute_input": "2021-02-06T12:35:37.132020Z",
     "iopub.status.busy": "2021-02-06T12:35:37.131118Z",
     "iopub.status.idle": "2021-02-06T12:35:37.135701Z",
     "shell.execute_reply": "2021-02-06T12:35:37.135132Z"
    },
    "papermill": {
     "duration": 0.036808,
     "end_time": "2021-02-06T12:35:37.135864",
     "exception": false,
     "start_time": "2021-02-06T12:35:37.099056",
     "status": "completed"
    },
    "tags": []
   },
   "outputs": [
    {
     "data": {
      "text/plain": [
       "(60000, 136)"
      ]
     },
     "execution_count": 16,
     "metadata": {},
     "output_type": "execute_result"
    }
   ],
   "source": [
    "all_train.shape"
   ]
  },
  {
   "cell_type": "code",
   "execution_count": 17,
   "metadata": {
    "execution": {
     "iopub.execute_input": "2021-02-06T12:35:37.197962Z",
     "iopub.status.busy": "2021-02-06T12:35:37.197014Z",
     "iopub.status.idle": "2021-02-06T12:35:37.201417Z",
     "shell.execute_reply": "2021-02-06T12:35:37.200696Z"
    },
    "papermill": {
     "duration": 0.037308,
     "end_time": "2021-02-06T12:35:37.201559",
     "exception": false,
     "start_time": "2021-02-06T12:35:37.164251",
     "status": "completed"
    },
    "tags": []
   },
   "outputs": [
    {
     "data": {
      "text/plain": [
       "(40000, 135)"
      ]
     },
     "execution_count": 17,
     "metadata": {},
     "output_type": "execute_result"
    }
   ],
   "source": [
    "all_test.shape"
   ]
  },
  {
   "cell_type": "code",
   "execution_count": 18,
   "metadata": {
    "execution": {
     "iopub.execute_input": "2021-02-06T12:35:37.263555Z",
     "iopub.status.busy": "2021-02-06T12:35:37.262612Z",
     "iopub.status.idle": "2021-02-06T12:35:37.266109Z",
     "shell.execute_reply": "2021-02-06T12:35:37.265520Z"
    },
    "papermill": {
     "duration": 0.036731,
     "end_time": "2021-02-06T12:35:37.266266",
     "exception": false,
     "start_time": "2021-02-06T12:35:37.229535",
     "status": "completed"
    },
    "tags": []
   },
   "outputs": [],
   "source": [
    "target = all_train['target'].values"
   ]
  },
  {
   "cell_type": "code",
   "execution_count": 19,
   "metadata": {
    "execution": {
     "iopub.execute_input": "2021-02-06T12:35:37.328260Z",
     "iopub.status.busy": "2021-02-06T12:35:37.327364Z",
     "iopub.status.idle": "2021-02-06T12:35:37.331040Z",
     "shell.execute_reply": "2021-02-06T12:35:37.331573Z"
    },
    "papermill": {
     "duration": 0.037694,
     "end_time": "2021-02-06T12:35:37.331752",
     "exception": false,
     "start_time": "2021-02-06T12:35:37.294058",
     "status": "completed"
    },
    "tags": []
   },
   "outputs": [
    {
     "data": {
      "text/plain": [
       "(60000,)"
      ]
     },
     "execution_count": 19,
     "metadata": {},
     "output_type": "execute_result"
    }
   ],
   "source": [
    "train_oof = np.zeros((len(all_train),))\n",
    "test_preds = 0\n",
    "train_oof.shape"
   ]
  },
  {
   "cell_type": "code",
   "execution_count": 20,
   "metadata": {
    "execution": {
     "iopub.execute_input": "2021-02-06T12:35:37.389750Z",
     "iopub.status.busy": "2021-02-06T12:35:37.388871Z",
     "iopub.status.idle": "2021-02-06T12:35:37.391391Z",
     "shell.execute_reply": "2021-02-06T12:35:37.391963Z"
    },
    "papermill": {
     "duration": 0.034295,
     "end_time": "2021-02-06T12:35:37.392229",
     "exception": false,
     "start_time": "2021-02-06T12:35:37.357934",
     "status": "completed"
    },
    "tags": []
   },
   "outputs": [],
   "source": [
    "params = {\n",
    "    'boosting_type': 'gbdt',\n",
    "    'objective': 'binary',\n",
    "    'metric': 'auc',\n",
    "    'min_data_in_leaf': 3000,\n",
    "    'feature_fraction': 0.2,\n",
    "    'max_depth':8,\n",
    "    'num_leaves':70,\n",
    "}"
   ]
  },
  {
   "cell_type": "code",
   "execution_count": 21,
   "metadata": {
    "execution": {
     "iopub.execute_input": "2021-02-06T12:35:37.455919Z",
     "iopub.status.busy": "2021-02-06T12:35:37.454879Z",
     "iopub.status.idle": "2021-02-06T12:36:02.911323Z",
     "shell.execute_reply": "2021-02-06T12:36:02.912179Z"
    },
    "papermill": {
     "duration": 25.493874,
     "end_time": "2021-02-06T12:36:02.912387",
     "exception": false,
     "start_time": "2021-02-06T12:35:37.418513",
     "status": "completed"
    },
    "tags": []
   },
   "outputs": [
    {
     "data": {
      "application/vnd.jupyter.widget-view+json": {
       "model_id": "ea2a8f50b115453295d0f87fec1dd319",
       "version_major": 2,
       "version_minor": 0
      },
      "text/plain": [
       "|          | 0/? [00:00<?, ?it/s]"
      ]
     },
     "metadata": {},
     "output_type": "display_data"
    },
    {
     "name": "stdout",
     "output_type": "stream",
     "text": [
      "[LightGBM] [Warning] feature_fraction is set=0.2, colsample_bytree=1.0 will be ignored. Current value: feature_fraction=0.2\n",
      "[LightGBM] [Warning] min_data_in_leaf is set=3000, min_child_samples=20 will be ignored. Current value: min_data_in_leaf=3000\n",
      "0.7671336337829031\n",
      "[LightGBM] [Warning] feature_fraction is set=0.2, colsample_bytree=1.0 will be ignored. Current value: feature_fraction=0.2\n",
      "[LightGBM] [Warning] min_data_in_leaf is set=3000, min_child_samples=20 will be ignored. Current value: min_data_in_leaf=3000\n",
      "0.771915324440274\n",
      "[LightGBM] [Warning] feature_fraction is set=0.2, colsample_bytree=1.0 will be ignored. Current value: feature_fraction=0.2\n",
      "[LightGBM] [Warning] min_data_in_leaf is set=3000, min_child_samples=20 will be ignored. Current value: min_data_in_leaf=3000\n",
      "0.764652435037717\n",
      "[LightGBM] [Warning] feature_fraction is set=0.2, colsample_bytree=1.0 will be ignored. Current value: feature_fraction=0.2\n",
      "[LightGBM] [Warning] min_data_in_leaf is set=3000, min_child_samples=20 will be ignored. Current value: min_data_in_leaf=3000\n",
      "0.7686567164179106\n",
      "[LightGBM] [Warning] feature_fraction is set=0.2, colsample_bytree=1.0 will be ignored. Current value: feature_fraction=0.2\n",
      "[LightGBM] [Warning] min_data_in_leaf is set=3000, min_child_samples=20 will be ignored. Current value: min_data_in_leaf=3000\n",
      "0.7374414618696654\n",
      "[LightGBM] [Warning] feature_fraction is set=0.2, colsample_bytree=1.0 will be ignored. Current value: feature_fraction=0.2\n",
      "[LightGBM] [Warning] min_data_in_leaf is set=3000, min_child_samples=20 will be ignored. Current value: min_data_in_leaf=3000\n",
      "0.7811952717535786\n",
      "[LightGBM] [Warning] feature_fraction is set=0.2, colsample_bytree=1.0 will be ignored. Current value: feature_fraction=0.2\n",
      "[LightGBM] [Warning] min_data_in_leaf is set=3000, min_child_samples=20 will be ignored. Current value: min_data_in_leaf=3000\n",
      "0.7966726555240593\n",
      "[LightGBM] [Warning] feature_fraction is set=0.2, colsample_bytree=1.0 will be ignored. Current value: feature_fraction=0.2\n",
      "[LightGBM] [Warning] min_data_in_leaf is set=3000, min_child_samples=20 will be ignored. Current value: min_data_in_leaf=3000\n",
      "0.796752737726388\n",
      "[LightGBM] [Warning] feature_fraction is set=0.2, colsample_bytree=1.0 will be ignored. Current value: feature_fraction=0.2\n",
      "[LightGBM] [Warning] min_data_in_leaf is set=3000, min_child_samples=20 will be ignored. Current value: min_data_in_leaf=3000\n",
      "0.7891409761822922\n",
      "[LightGBM] [Warning] feature_fraction is set=0.2, colsample_bytree=1.0 will be ignored. Current value: feature_fraction=0.2\n",
      "[LightGBM] [Warning] min_data_in_leaf is set=3000, min_child_samples=20 will be ignored. Current value: min_data_in_leaf=3000\n",
      "0.7935746343794263\n"
     ]
    }
   ],
   "source": [
    "NUM_FOLDS = 10\n",
    "kf = KFold(n_splits=NUM_FOLDS, shuffle=True, random_state=0)\n",
    "\n",
    "for f, (train_ind, val_ind) in tqdm(enumerate(kf.split(all_train, target))):\n",
    "        #print(f'Fold {f}')\n",
    "        train_df, val_df = all_train.iloc[train_ind][columns], all_train.iloc[val_ind][columns]\n",
    "        train_target, val_target = target[train_ind], target[val_ind]\n",
    "        \n",
    "        model = LGBMRegressor(**params)\n",
    "        model.fit(train_df, train_target, eval_set=[(val_df,val_target)],early_stopping_rounds=1600,verbose=False)\n",
    "        temp_oof = model.predict(val_df)\n",
    "        temp_test = model.predict(all_test[columns])\n",
    "\n",
    "        train_oof[val_ind] = temp_oof\n",
    "        test_preds += temp_test/NUM_FOLDS\n",
    "        \n",
    "        print(roc_auc_score(val_target, temp_oof))"
   ]
  },
  {
   "cell_type": "code",
   "execution_count": 22,
   "metadata": {
    "execution": {
     "iopub.execute_input": "2021-02-06T12:36:02.977726Z",
     "iopub.status.busy": "2021-02-06T12:36:02.976932Z",
     "iopub.status.idle": "2021-02-06T12:36:03.042662Z",
     "shell.execute_reply": "2021-02-06T12:36:03.042126Z"
    },
    "papermill": {
     "duration": 0.10007,
     "end_time": "2021-02-06T12:36:03.042801",
     "exception": false,
     "start_time": "2021-02-06T12:36:02.942731",
     "status": "completed"
    },
    "tags": []
   },
   "outputs": [],
   "source": [
    "X_train, X_val, y_train, y_val = train_test_split(all_train, target, test_size=0.33, random_state=42)"
   ]
  },
  {
   "cell_type": "code",
   "execution_count": 23,
   "metadata": {
    "execution": {
     "iopub.execute_input": "2021-02-06T12:36:03.119958Z",
     "iopub.status.busy": "2021-02-06T12:36:03.118228Z",
     "iopub.status.idle": "2021-02-06T12:36:03.406376Z",
     "shell.execute_reply": "2021-02-06T12:36:03.407217Z"
    },
    "papermill": {
     "duration": 0.33527,
     "end_time": "2021-02-06T12:36:03.407398",
     "exception": false,
     "start_time": "2021-02-06T12:36:03.072128",
     "status": "completed"
    },
    "tags": []
   },
   "outputs": [
    {
     "name": "stdout",
     "output_type": "stream",
     "text": [
      "Train auc:  0.7975856194025526\n",
      "Val auc:  0.8084065620125619\n"
     ]
    }
   ],
   "source": [
    "print('Train auc: ', roc_auc_score(y_train, model.predict(X_train[columns])))\n",
    "print('Val auc: ', roc_auc_score(y_val, model.predict(X_val[columns])))"
   ]
  },
  {
   "cell_type": "code",
   "execution_count": 24,
   "metadata": {
    "execution": {
     "iopub.execute_input": "2021-02-06T12:36:03.470783Z",
     "iopub.status.busy": "2021-02-06T12:36:03.470130Z",
     "iopub.status.idle": "2021-02-06T12:36:03.473363Z",
     "shell.execute_reply": "2021-02-06T12:36:03.472743Z"
    },
    "papermill": {
     "duration": 0.036284,
     "end_time": "2021-02-06T12:36:03.473477",
     "exception": false,
     "start_time": "2021-02-06T12:36:03.437193",
     "status": "completed"
    },
    "tags": []
   },
   "outputs": [],
   "source": [
    "np.save('test_preds', test_preds)"
   ]
  },
  {
   "cell_type": "code",
   "execution_count": 25,
   "metadata": {
    "execution": {
     "iopub.execute_input": "2021-02-06T12:36:03.538496Z",
     "iopub.status.busy": "2021-02-06T12:36:03.537707Z",
     "iopub.status.idle": "2021-02-06T12:36:03.540551Z",
     "shell.execute_reply": "2021-02-06T12:36:03.540063Z"
    },
    "papermill": {
     "duration": 0.037157,
     "end_time": "2021-02-06T12:36:03.540661",
     "exception": false,
     "start_time": "2021-02-06T12:36:03.503504",
     "status": "completed"
    },
    "tags": []
   },
   "outputs": [],
   "source": [
    "submission = sample_submission.copy()"
   ]
  },
  {
   "cell_type": "code",
   "execution_count": 26,
   "metadata": {
    "execution": {
     "iopub.execute_input": "2021-02-06T12:36:03.605949Z",
     "iopub.status.busy": "2021-02-06T12:36:03.605222Z",
     "iopub.status.idle": "2021-02-06T12:36:03.607813Z",
     "shell.execute_reply": "2021-02-06T12:36:03.608257Z"
    },
    "papermill": {
     "duration": 0.037226,
     "end_time": "2021-02-06T12:36:03.608388",
     "exception": false,
     "start_time": "2021-02-06T12:36:03.571162",
     "status": "completed"
    },
    "tags": []
   },
   "outputs": [],
   "source": [
    "submission['target'] = test_preds"
   ]
  },
  {
   "cell_type": "code",
   "execution_count": 27,
   "metadata": {
    "execution": {
     "iopub.execute_input": "2021-02-06T12:36:03.675936Z",
     "iopub.status.busy": "2021-02-06T12:36:03.674955Z",
     "iopub.status.idle": "2021-02-06T12:36:03.679109Z",
     "shell.execute_reply": "2021-02-06T12:36:03.678534Z"
    },
    "papermill": {
     "duration": 0.04109,
     "end_time": "2021-02-06T12:36:03.679247",
     "exception": false,
     "start_time": "2021-02-06T12:36:03.638157",
     "status": "completed"
    },
    "tags": []
   },
   "outputs": [
    {
     "data": {
      "text/html": [
       "<div>\n",
       "<style scoped>\n",
       "    .dataframe tbody tr th:only-of-type {\n",
       "        vertical-align: middle;\n",
       "    }\n",
       "\n",
       "    .dataframe tbody tr th {\n",
       "        vertical-align: top;\n",
       "    }\n",
       "\n",
       "    .dataframe thead th {\n",
       "        text-align: right;\n",
       "    }\n",
       "</style>\n",
       "<table border=\"1\" class=\"dataframe\">\n",
       "  <thead>\n",
       "    <tr style=\"text-align: right;\">\n",
       "      <th></th>\n",
       "      <th>musteri</th>\n",
       "      <th>target</th>\n",
       "    </tr>\n",
       "  </thead>\n",
       "  <tbody>\n",
       "    <tr>\n",
       "      <th>0</th>\n",
       "      <td>ee523cbb79</td>\n",
       "      <td>0.011211</td>\n",
       "    </tr>\n",
       "    <tr>\n",
       "      <th>1</th>\n",
       "      <td>d0b45299ba</td>\n",
       "      <td>0.039562</td>\n",
       "    </tr>\n",
       "    <tr>\n",
       "      <th>2</th>\n",
       "      <td>45564f1c9f</td>\n",
       "      <td>0.029808</td>\n",
       "    </tr>\n",
       "    <tr>\n",
       "      <th>3</th>\n",
       "      <td>0e91950c32</td>\n",
       "      <td>0.033717</td>\n",
       "    </tr>\n",
       "    <tr>\n",
       "      <th>4</th>\n",
       "      <td>8d02e2c86d</td>\n",
       "      <td>0.018836</td>\n",
       "    </tr>\n",
       "  </tbody>\n",
       "</table>\n",
       "</div>"
      ],
      "text/plain": [
       "      musteri    target\n",
       "0  ee523cbb79  0.011211\n",
       "1  d0b45299ba  0.039562\n",
       "2  45564f1c9f  0.029808\n",
       "3  0e91950c32  0.033717\n",
       "4  8d02e2c86d  0.018836"
      ]
     },
     "execution_count": 27,
     "metadata": {},
     "output_type": "execute_result"
    }
   ],
   "source": [
    "submission.head()"
   ]
  },
  {
   "cell_type": "code",
   "execution_count": 28,
   "metadata": {
    "execution": {
     "iopub.execute_input": "2021-02-06T12:36:03.747126Z",
     "iopub.status.busy": "2021-02-06T12:36:03.746487Z",
     "iopub.status.idle": "2021-02-06T12:36:04.048221Z",
     "shell.execute_reply": "2021-02-06T12:36:04.047621Z"
    },
    "papermill": {
     "duration": 0.335989,
     "end_time": "2021-02-06T12:36:04.048361",
     "exception": false,
     "start_time": "2021-02-06T12:36:03.712372",
     "status": "completed"
    },
    "tags": []
   },
   "outputs": [],
   "source": [
    "submission.to_csv('submission.csv', index=False) "
   ]
  }
 ],
 "metadata": {
  "kernelspec": {
   "display_name": "Python 3",
   "language": "python",
   "name": "python3"
  },
  "language_info": {
   "codemirror_mode": {
    "name": "ipython",
    "version": 3
   },
   "file_extension": ".py",
   "mimetype": "text/x-python",
   "name": "python",
   "nbconvert_exporter": "python",
   "pygments_lexer": "ipython3",
   "version": "3.7.9"
  },
  "papermill": {
   "default_parameters": {},
   "duration": 43.243818,
   "end_time": "2021-02-06T12:36:04.990120",
   "environment_variables": {},
   "exception": null,
   "input_path": "__notebook__.ipynb",
   "output_path": "__notebook__.ipynb",
   "parameters": {},
   "start_time": "2021-02-06T12:35:21.746302",
   "version": "2.2.2"
  },
  "widgets": {
   "application/vnd.jupyter.widget-state+json": {
    "state": {
     "3f73e27a00e74da39bc5030ba25dbfc8": {
      "model_module": "@jupyter-widgets/base",
      "model_module_version": "1.2.0",
      "model_name": "LayoutModel",
      "state": {
       "_model_module": "@jupyter-widgets/base",
       "_model_module_version": "1.2.0",
       "_model_name": "LayoutModel",
       "_view_count": null,
       "_view_module": "@jupyter-widgets/base",
       "_view_module_version": "1.2.0",
       "_view_name": "LayoutView",
       "align_content": null,
       "align_items": null,
       "align_self": null,
       "border": null,
       "bottom": null,
       "display": null,
       "flex": null,
       "flex_flow": null,
       "grid_area": null,
       "grid_auto_columns": null,
       "grid_auto_flow": null,
       "grid_auto_rows": null,
       "grid_column": null,
       "grid_gap": null,
       "grid_row": null,
       "grid_template_areas": null,
       "grid_template_columns": null,
       "grid_template_rows": null,
       "height": null,
       "justify_content": null,
       "justify_items": null,
       "left": null,
       "margin": null,
       "max_height": null,
       "max_width": null,
       "min_height": null,
       "min_width": null,
       "object_fit": null,
       "object_position": null,
       "order": null,
       "overflow": null,
       "overflow_x": null,
       "overflow_y": null,
       "padding": null,
       "right": null,
       "top": null,
       "visibility": null,
       "width": null
      }
     },
     "5bfe821bb44e4c36bf00a77b92834e1f": {
      "model_module": "@jupyter-widgets/controls",
      "model_module_version": "1.5.0",
      "model_name": "DescriptionStyleModel",
      "state": {
       "_model_module": "@jupyter-widgets/controls",
       "_model_module_version": "1.5.0",
       "_model_name": "DescriptionStyleModel",
       "_view_count": null,
       "_view_module": "@jupyter-widgets/base",
       "_view_module_version": "1.2.0",
       "_view_name": "StyleView",
       "description_width": ""
      }
     },
     "709a38cec7d3486db59d75768d1321c1": {
      "model_module": "@jupyter-widgets/controls",
      "model_module_version": "1.5.0",
      "model_name": "ProgressStyleModel",
      "state": {
       "_model_module": "@jupyter-widgets/controls",
       "_model_module_version": "1.5.0",
       "_model_name": "ProgressStyleModel",
       "_view_count": null,
       "_view_module": "@jupyter-widgets/base",
       "_view_module_version": "1.2.0",
       "_view_name": "StyleView",
       "bar_color": null,
       "description_width": ""
      }
     },
     "934c25ff577241949c2eb2f3341c334b": {
      "model_module": "@jupyter-widgets/controls",
      "model_module_version": "1.5.0",
      "model_name": "FloatProgressModel",
      "state": {
       "_dom_classes": [],
       "_model_module": "@jupyter-widgets/controls",
       "_model_module_version": "1.5.0",
       "_model_name": "FloatProgressModel",
       "_view_count": null,
       "_view_module": "@jupyter-widgets/controls",
       "_view_module_version": "1.5.0",
       "_view_name": "ProgressView",
       "bar_style": "success",
       "description": "",
       "description_tooltip": null,
       "layout": "IPY_MODEL_b4d840e7c1254388a1364386fac95fa1",
       "max": 1.0,
       "min": 0.0,
       "orientation": "horizontal",
       "style": "IPY_MODEL_709a38cec7d3486db59d75768d1321c1",
       "value": 1.0
      }
     },
     "9cac972dffee44b680a69262c274ee0f": {
      "model_module": "@jupyter-widgets/base",
      "model_module_version": "1.2.0",
      "model_name": "LayoutModel",
      "state": {
       "_model_module": "@jupyter-widgets/base",
       "_model_module_version": "1.2.0",
       "_model_name": "LayoutModel",
       "_view_count": null,
       "_view_module": "@jupyter-widgets/base",
       "_view_module_version": "1.2.0",
       "_view_name": "LayoutView",
       "align_content": null,
       "align_items": null,
       "align_self": null,
       "border": null,
       "bottom": null,
       "display": null,
       "flex": null,
       "flex_flow": null,
       "grid_area": null,
       "grid_auto_columns": null,
       "grid_auto_flow": null,
       "grid_auto_rows": null,
       "grid_column": null,
       "grid_gap": null,
       "grid_row": null,
       "grid_template_areas": null,
       "grid_template_columns": null,
       "grid_template_rows": null,
       "height": null,
       "justify_content": null,
       "justify_items": null,
       "left": null,
       "margin": null,
       "max_height": null,
       "max_width": null,
       "min_height": null,
       "min_width": null,
       "object_fit": null,
       "object_position": null,
       "order": null,
       "overflow": null,
       "overflow_x": null,
       "overflow_y": null,
       "padding": null,
       "right": null,
       "top": null,
       "visibility": null,
       "width": null
      }
     },
     "b4d840e7c1254388a1364386fac95fa1": {
      "model_module": "@jupyter-widgets/base",
      "model_module_version": "1.2.0",
      "model_name": "LayoutModel",
      "state": {
       "_model_module": "@jupyter-widgets/base",
       "_model_module_version": "1.2.0",
       "_model_name": "LayoutModel",
       "_view_count": null,
       "_view_module": "@jupyter-widgets/base",
       "_view_module_version": "1.2.0",
       "_view_name": "LayoutView",
       "align_content": null,
       "align_items": null,
       "align_self": null,
       "border": null,
       "bottom": null,
       "display": null,
       "flex": null,
       "flex_flow": null,
       "grid_area": null,
       "grid_auto_columns": null,
       "grid_auto_flow": null,
       "grid_auto_rows": null,
       "grid_column": null,
       "grid_gap": null,
       "grid_row": null,
       "grid_template_areas": null,
       "grid_template_columns": null,
       "grid_template_rows": null,
       "height": null,
       "justify_content": null,
       "justify_items": null,
       "left": null,
       "margin": null,
       "max_height": null,
       "max_width": null,
       "min_height": null,
       "min_width": null,
       "object_fit": null,
       "object_position": null,
       "order": null,
       "overflow": null,
       "overflow_x": null,
       "overflow_y": null,
       "padding": null,
       "right": null,
       "top": null,
       "visibility": null,
       "width": "20px"
      }
     },
     "bd7920d54beb4e47828bbdca2b638cc1": {
      "model_module": "@jupyter-widgets/controls",
      "model_module_version": "1.5.0",
      "model_name": "HTMLModel",
      "state": {
       "_dom_classes": [],
       "_model_module": "@jupyter-widgets/controls",
       "_model_module_version": "1.5.0",
       "_model_name": "HTMLModel",
       "_view_count": null,
       "_view_module": "@jupyter-widgets/controls",
       "_view_module_version": "1.5.0",
       "_view_name": "HTMLView",
       "description": "",
       "description_tooltip": null,
       "layout": "IPY_MODEL_9cac972dffee44b680a69262c274ee0f",
       "placeholder": "​",
       "style": "IPY_MODEL_ed2fdc53539c45e9b1b67d9c639e6913",
       "value": "10it [00:25,  2.41s/it]"
      }
     },
     "d3514fc6c7fc41798f8ff97749720585": {
      "model_module": "@jupyter-widgets/base",
      "model_module_version": "1.2.0",
      "model_name": "LayoutModel",
      "state": {
       "_model_module": "@jupyter-widgets/base",
       "_model_module_version": "1.2.0",
       "_model_name": "LayoutModel",
       "_view_count": null,
       "_view_module": "@jupyter-widgets/base",
       "_view_module_version": "1.2.0",
       "_view_name": "LayoutView",
       "align_content": null,
       "align_items": null,
       "align_self": null,
       "border": null,
       "bottom": null,
       "display": null,
       "flex": null,
       "flex_flow": null,
       "grid_area": null,
       "grid_auto_columns": null,
       "grid_auto_flow": null,
       "grid_auto_rows": null,
       "grid_column": null,
       "grid_gap": null,
       "grid_row": null,
       "grid_template_areas": null,
       "grid_template_columns": null,
       "grid_template_rows": null,
       "height": null,
       "justify_content": null,
       "justify_items": null,
       "left": null,
       "margin": null,
       "max_height": null,
       "max_width": null,
       "min_height": null,
       "min_width": null,
       "object_fit": null,
       "object_position": null,
       "order": null,
       "overflow": null,
       "overflow_x": null,
       "overflow_y": null,
       "padding": null,
       "right": null,
       "top": null,
       "visibility": null,
       "width": null
      }
     },
     "e9e400e3513d4bdc9b8fd8be2d91f1b2": {
      "model_module": "@jupyter-widgets/controls",
      "model_module_version": "1.5.0",
      "model_name": "HTMLModel",
      "state": {
       "_dom_classes": [],
       "_model_module": "@jupyter-widgets/controls",
       "_model_module_version": "1.5.0",
       "_model_name": "HTMLModel",
       "_view_count": null,
       "_view_module": "@jupyter-widgets/controls",
       "_view_module_version": "1.5.0",
       "_view_name": "HTMLView",
       "description": "",
       "description_tooltip": null,
       "layout": "IPY_MODEL_3f73e27a00e74da39bc5030ba25dbfc8",
       "placeholder": "​",
       "style": "IPY_MODEL_5bfe821bb44e4c36bf00a77b92834e1f",
       "value": ""
      }
     },
     "ea2a8f50b115453295d0f87fec1dd319": {
      "model_module": "@jupyter-widgets/controls",
      "model_module_version": "1.5.0",
      "model_name": "HBoxModel",
      "state": {
       "_dom_classes": [],
       "_model_module": "@jupyter-widgets/controls",
       "_model_module_version": "1.5.0",
       "_model_name": "HBoxModel",
       "_view_count": null,
       "_view_module": "@jupyter-widgets/controls",
       "_view_module_version": "1.5.0",
       "_view_name": "HBoxView",
       "box_style": "",
       "children": [
        "IPY_MODEL_e9e400e3513d4bdc9b8fd8be2d91f1b2",
        "IPY_MODEL_934c25ff577241949c2eb2f3341c334b",
        "IPY_MODEL_bd7920d54beb4e47828bbdca2b638cc1"
       ],
       "layout": "IPY_MODEL_d3514fc6c7fc41798f8ff97749720585"
      }
     },
     "ed2fdc53539c45e9b1b67d9c639e6913": {
      "model_module": "@jupyter-widgets/controls",
      "model_module_version": "1.5.0",
      "model_name": "DescriptionStyleModel",
      "state": {
       "_model_module": "@jupyter-widgets/controls",
       "_model_module_version": "1.5.0",
       "_model_name": "DescriptionStyleModel",
       "_view_count": null,
       "_view_module": "@jupyter-widgets/base",
       "_view_module_version": "1.2.0",
       "_view_name": "StyleView",
       "description_width": ""
      }
     }
    },
    "version_major": 2,
    "version_minor": 0
   }
  }
 },
 "nbformat": 4,
 "nbformat_minor": 4
}
